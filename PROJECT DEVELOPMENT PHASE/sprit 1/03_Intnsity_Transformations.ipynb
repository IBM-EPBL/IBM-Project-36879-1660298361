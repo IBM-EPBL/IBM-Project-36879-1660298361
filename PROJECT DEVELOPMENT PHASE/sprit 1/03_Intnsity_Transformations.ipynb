
Image Arithmetics

You can do some meaningful arithmetics on images to get various results. For example you can add images, subtract them, or even multiply them.

Now, we are going to test some of these mathematical operations.

from skimage.io import imread
import matplotlib.pyplot as plt
import numpy as np

live = imread('/content/0b37761a-de32-47ee-a3a4-e138b97ef542___JR_FrgE.S 2908.JPG')
mask = imread('/content/00e909aa-e3ae-4558-9961-336bb0f35db3___JR_FrgE.S 8593.JPG')

plt.figure(figsize=(10, 10))
plt.subplot(121), plt.imshow(live, cmap='gray')
plt.subplot(122), plt.imshow(mask, cmap='gray')
plt.show()

plt.figure(figsize=(10, 10))
plt.subplot(121), plt.imshow(live, cmap='gray')
plt.subplot(122), plt.imshow(live - 20, cmap='gray')
plt.show()

plt.figure(figsize=(10, 10))
plt.subplot(131), plt.imshow(mask - live, cmap='gray')
plt.subplot(132), plt.imshow(-(mask - live + 128), cmap='gray')
plt.subplot(133), plt.imshow(mask - live + 128, cmap='gray')
plt.show()

shaded = imread('/content/0b37761a-de32-47ee-a3a4-e138b97ef542___JR_FrgE.S 2908.JPG')
shading = imread('/content/00e909aa-e3ae-4558-9961-336bb0f35db3___JR_FrgE.S 8593.JPG')

plt.figure(figsize=(10, 10))
plt.subplot(121), plt.imshow(shaded, cmap='gray')
plt.subplot(122), plt.imshow(shading, cmap='gray')
plt.show()

plt.figure(figsize=(10, 10))
plt.subplot(121), plt.imshow(np.multiply(shaded, 1/shading), cmap='gray')
plt.subplot(122), plt.imshow(shaded, cmap='gray')
plt.show()

/usr/local/lib/python3.7/dist-packages/ipykernel_launcher.py:2: RuntimeWarning: divide by zero encountered in true_divide
  
/usr/local/lib/python3.7/dist-packages/ipykernel_launcher.py:2: RuntimeWarning: invalid value encountered in multiply
  
WARNING:matplotlib.image:Clipping input data to the valid range for imshow with RGB data ([0..1] for floats or [0..255] for integers).

# Test on the X-ray dental image
xray = imread('/content/00e909aa-e3ae-4558-9961-336bb0f35db3___JR_FrgE.S 8593.JPG')
mask_xray = imread('/content/00ddc106-692e-4c67-b2e8-569c924caf49___Rutg._Bact.S 1228.JPG')

plt.figure(figsize=(10, 10))
plt.subplot(121), plt.imshow(xray, cmap='gray')
plt.subplot(122), plt.imshow(mask_xray, cmap='gray')
plt.show()

plt.figure()
plt.imshow(np.multiply(xray, mask_xray/255), cmap='gray')
plt.show()

WARNING:matplotlib.image:Clipping input data to the valid range for imshow with RGB data ([0..1] for floats or [0..255] for integers).

# Test on another image
scan = imread('/content/0a62fe5a-22db-42e2-bca0-53a8dcfd8129___RS_NLB 0810.JPG')
print(scan.shape)

(256, 256, 3)

# Showing the body scan image
plt.figure(figsize=(7, 7))
plt.imshow(scan, cmap='gray')
plt.show()

Pixel relationships

Pixel Neighbors
Usual processes in DIP
Pixel (Point) processing

Only individual pixels are entered into a process. The output is dependent on the single pixel values.

Some of this kind of processes are:

Histogram Processing

    Contrast Enhancement
    Histogram Equalization
    Histogram Matching
    Histogram Strtching

Intensity Transformations

    Negative of an image
    Log transformation
    n-th power transformation
    piecewise transformations

Region (Neighborhood) processing

A region (area) of pixels are entered into a process. The output is dependent on the values of entire region.

A common example of this kind of process includes Spatial Filtering and Morphological Operators, which are:

    Average filtering
    Median filtering
    Sharpening filters
    Edge detectors
    Morphological Operations

Histogram of an image

An image is constructed of pixels

Image histogram

Histogram comparison

Histogram Over-Exposed

plt.figure(figsize=(10, 10))
plt.subplot(211), plt.imshow(xray, cmap='gray')
plt.subplot(212), plt.plot(np.histogram(xray, bins=256)[0])
plt.show()

