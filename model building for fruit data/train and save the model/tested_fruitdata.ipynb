

test_dir=r'C:\Users\maris_q3mm6nk\Desktop\FILES\data_for_ibm\Fertilizers_Recommendation_ System_For_Disease_ Prediction\Dataset Plant Disease\fruit-dataset\fruit-dataset\test'

import tensorflow as tf 
from tensorflow import keras 
from tensorflow.keras.preprocessing.image import ImageDataGenerator

model = tf.keras.models.load_model(r'C:\Users\maris_q3mm6nk\Desktop\FILES\data_for_ibm\Fertilizers_Recommendation_ System_For_Disease_ Prediction\Dataset Plant Disease\fruitdata.h5')

test_datagen_1=ImageDataGenerator(rescale=1)
test_generator_1=test_datagen_1.flow_from_directory(
    test_dir,
    target_size=(128,128),
    batch_size=20,
    class_mode='categorical'
)

Found 1686 images belonging to 6 classes.

import numpy as np
from tensorflow.keras.models import load_model
from tensorflow.keras.preprocessing import image

img=image.load_img(r"C:\Users\maris_q3mm6nk\Desktop\FILES\data_for_ibm\Fertilizers_Recommendation_ System_For_Disease_ Prediction\Dataset Plant Disease\fruit-dataset\fruit-dataset\train\Corn_(maize)___healthy\9faacf6a-f638-435a-8994-f1418b332199___R.S_HL 8102 copy 2.jpg")

img

img=image.load_img(r"C:\Users\maris_q3mm6nk\Desktop\FILES\data_for_ibm\Fertilizers_Recommendation_ System_For_Disease_ Prediction\Dataset Plant Disease\fruit-dataset\fruit-dataset\train\Corn_(maize)___healthy\9faacf6a-f638-435a-8994-f1418b332199___R.S_HL 8102 copy 2.jpg",target_size=(128,128))
x=image.img_to_array(img)
x=np.expand_dims(x,axis=0)
y=np.argmax(model.predict(x),axis=1)
index=['Apple___Black_rot', 'Apple___healthy', 'Corn_(maize)___healthy', 'Corn_(maize)___Northern_Leaf_Blight', 'Peach___Bacterial_spot', 'Peach___healthy']
index[y[0]]

1/1 [==============================] - 0s 57ms/step

'Corn_(maize)___Northern_Leaf_Blight'

model.evaluate(test_generator_1,steps=50)

50/50 [==============================] - 4s 76ms/step - loss: 1036.1377 - accuracy: 0.6220

[1036.1376953125, 0.621999979019165]

 

 

 

